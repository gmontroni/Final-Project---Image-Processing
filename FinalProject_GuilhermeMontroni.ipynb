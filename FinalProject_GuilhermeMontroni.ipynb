{
  "nbformat": 4,
  "nbformat_minor": 0,
  "metadata": {
    "colab": {
      "name": "FinalProject_GuilhermeMontroni.ipynb",
      "provenance": [],
      "collapsed_sections": []
    },
    "kernelspec": {
      "name": "python3",
      "display_name": "Python 3"
    },
    "language_info": {
      "name": "python"
    }
  },
  "cells": [
    {
      "cell_type": "markdown",
      "source": [
        "# Final Project: Inpainting via HRBF\n",
        "# SCC0251 - Processamento de Imagens\n",
        "---\n",
        "\n",
        "### Nome: Guilherme Valderramos Montroni\n",
        "### Nº USP: 13062539\n",
        "---\n"
      ],
      "metadata": {
        "id": "sEv7exGX33dG"
      }
    },
    {
      "cell_type": "markdown",
      "source": [
        "#**Packages**"
      ],
      "metadata": {
        "id": "mnadJVTg4Nm6"
      }
    },
    {
      "cell_type": "code",
      "execution_count": null,
      "metadata": {
        "id": "uhHsnPFZ3rIL"
      },
      "outputs": [],
      "source": [
        "import numpy as np\n",
        "import imageio\n",
        "import matplotlib.pyplot as plt\n",
        "import numpy.matlib\n",
        "\n",
        "from scipy.spatial import distance_matrix"
      ]
    },
    {
      "cell_type": "markdown",
      "source": [
        "#**Functions**"
      ],
      "metadata": {
        "id": "tg81jMHjY_gL"
      }
    },
    {
      "cell_type": "code",
      "source": [
        "# NORMALIZE\n",
        "def normalize(img, factor):\n",
        "    img_min = np.min(img)                         # min of image\n",
        "    img_max = np.max(img)                         # max of image\n",
        "    img = (img - img_min)/(img_max-img_min)       # normalize of image between 0 and 1\n",
        "    return (img*factor)"
      ],
      "metadata": {
        "id": "WYsX4idVf1xo"
      },
      "execution_count": null,
      "outputs": []
    },
    {
      "cell_type": "code",
      "source": [
        "def rhs_function(img, mask):\n",
        "\n",
        "\n",
        "  # Single Color Channel (SCC)\n",
        "  if (len(img.shape) == 2):\n",
        "    gx, gy = np.gradient(img)                           # cradient calculation\n",
        "    rhs = np.array([*img[mask], *gx[mask], *gy[mask]])  # rhs of scc image\n",
        "\n",
        "  # RGB\n",
        "  if (len(img.shape) == 3):\n",
        "    gx, gy = np.gradient(img)                           # DÚVIDA P/ PRÓXIMA ETAPA \n",
        "    rhs = print('ainda não foi feito para imagem rbg')  # como calcular o gradiente de uma imagem colorida?\n",
        "  \n",
        "  return (rhs)"
      ],
      "metadata": {
        "id": "fSQ8buBi5dNB"
      },
      "execution_count": null,
      "outputs": []
    },
    {
      "cell_type": "code",
      "source": [
        "# GRID \n",
        "def grid(mask):\n",
        "  \n",
        "  # shape image\n",
        "  M,N = mask.shape                    \n",
        "\n",
        "  # creating the grid\n",
        "  x = np.linspace(0, M-1, M)\n",
        "  y = np.linspace(0, N-1, N)\n",
        "  X, Y = np.meshgrid(x, y)\n",
        "\n",
        "  idx = np.flip(np.array([X.flatten(), Y.flatten()]).T,1).reshape(M,N,2)    # index of image\n",
        "\n",
        "  return (idx)"
      ],
      "metadata": {
        "id": "uHYe146Yvzd2"
      },
      "execution_count": null,
      "outputs": []
    },
    {
      "cell_type": "code",
      "source": [
        "# RGB TO GRAY \n",
        "def rgb2gray(rgb):\n",
        "    return np.dot(rgb[...,:3], [0.2989, 0.5870, 0.1140])"
      ],
      "metadata": {
        "id": "emjfgLeT7HKP"
      },
      "execution_count": null,
      "outputs": []
    },
    {
      "cell_type": "code",
      "source": [
        "# Euclidean Distance\n",
        "def Euclidean_distance(p, q):\n",
        "    dist = np.sqrt(np.sum(np.square(p-q)))\n",
        "    return dist"
      ],
      "metadata": {
        "id": "RSVpo-tjhjV0"
      },
      "execution_count": null,
      "outputs": []
    },
    {
      "cell_type": "code",
      "source": [
        "# Non-Damaged and Damaged Points\n",
        "def non_and_damaged(img, mask):\n",
        "  \n",
        "  # by pattern, the degraded region is black\n",
        "  nondamaged = img[mask]\n",
        "  damaged = img[~mask]\n",
        "\n",
        "  return (nondamaged, damaged)"
      ],
      "metadata": {
        "id": "dwwPg4lNZPrj"
      },
      "execution_count": null,
      "outputs": []
    },
    {
      "cell_type": "code",
      "source": [
        "# Hermite RBF Interpolation Digital Inpainting\n",
        "# dsites (array Nx2): N pontos dados onde se tem os valores da função. (região da imagem que não está degradada)\n",
        "# epoints (array Mx2): M pontos onde a função interpoladora será calculada. (região degradada da imagem)\n",
        "# rhs (array 3Nx1): valores e derivadas da função nos pontos dsites.\n",
        "def HRBF2D(dsites, epoints, rhs, kernel):\n",
        "\n",
        "    rbf, dxrbf, dyrbf, dxxrbf, dyyrbf, dxyrbf, ep = kernel['rbf'], kernel['dxrbf'], kernel['dyrbf'], kernel['dxxrbf'], kernel['dyyrbf'], kernel['dxyrbf'], kernel['ep']\n",
        "    \n",
        "    # Compute the distance and difference matrices for evaluation matrix\n",
        "    DM_eval = distance_matrix(epoints, dsites)\n",
        "    dx_eval = epoints[:,0].reshape(-1,1) - dsites[:,0].reshape(1,-1)\n",
        "    dy_eval = epoints[:,1].reshape(-1,1) - dsites[:,1].reshape(1,-1)\n",
        "\n",
        "    # Compute the distance and difference matrices for interpolation matrix\n",
        "    DM_data = distance_matrix(dsites, dsites)\n",
        "    dx_data = dsites[:,0].reshape(-1,1) - dsites[:,0].reshape(1,-1)\n",
        "    dy_data = dsites[:,1].reshape(-1,1) - dsites[:,1].reshape(1,-1)\n",
        "\n",
        "    # Compute blocks for interpolation matrix\n",
        "    IM    = rbf(ep, DM_data)\n",
        "    DxIM  = dxrbf(ep, DM_data, dx_data)\n",
        "    DyIM  = dyrbf(ep, DM_data, dy_data)\n",
        "    DxxIM = dxxrbf(ep, DM_data, dx_data)\n",
        "    DyyIM = dyyrbf(ep, DM_data, dy_data)\n",
        "    DxyIM = dxyrbf(ep, DM_data, dx_data, dy_data)\n",
        "\n",
        "    IM = np.block([[IM,   -DxIM,  -DyIM],\n",
        "                   [DxIM, -DxxIM, -DxyIM],\n",
        "                   [DyIM, -DxyIM, -DyyIM]])\n",
        "\n",
        "    # Compute blocks for evaluation matrix\n",
        "    EM    = rbf(ep, DM_eval)\n",
        "    DxEM  = dxrbf(ep, DM_eval, dx_eval)\n",
        "    DyEM  = dyrbf(ep, DM_eval, dy_eval)\n",
        "\n",
        "    # Assemble evaluation matrix\n",
        "    EM = np.block([EM, -DxEM, -DyEM])\n",
        "\n",
        "    # RBF Hermite interpolant\n",
        "    alpha = np.linalg.solve(IM, rhs)\n",
        "    return EM @ alpha"
      ],
      "metadata": {
        "id": "E2gkokt6Y0kn"
      },
      "execution_count": null,
      "outputs": []
    },
    {
      "cell_type": "markdown",
      "source": [
        "#**Input**"
      ],
      "metadata": {
        "id": "lZ_75XD8b5br"
      }
    },
    {
      "cell_type": "code",
      "source": [
        "filename = str(input().rstrip())                          # file of input image\n",
        "original_img = imageio.imread(filename).astype(np.uint8)  # uint8 elements\n",
        "\n",
        "filename = str(input().rstrip())                          # file of input image\n",
        "img = imageio.imread(filename).astype(np.uint8)           # uint8 elements\n",
        "\n",
        "filename = str(input().rstrip())                          # file of input mask\n",
        "mask = imageio.imread(filename).astype(bool)              # logical elements"
      ],
      "metadata": {
        "colab": {
          "base_uri": "https://localhost:8080/"
        },
        "id": "jB1jTTR6b8dG",
        "outputId": "80b570c6-76df-4583-e7fe-dc1d5488597e"
      },
      "execution_count": null,
      "outputs": [
        {
          "name": "stdout",
          "output_type": "stream",
          "text": [
            "walk.png\n",
            "walk1.png\n",
            "walk2.png\n"
          ]
        }
      ]
    },
    {
      "cell_type": "code",
      "source": [
        "original_img = rgb2gray(original_img).round().astype(np.uint8)\n",
        "img = rgb2gray(img).round().astype(np.uint8)\n",
        "print(mask.shape)"
      ],
      "metadata": {
        "colab": {
          "base_uri": "https://localhost:8080/"
        },
        "id": "5t7BxcMDhh4Z",
        "outputId": "bd70954e-f648-4216-9cf3-01a585ed4b4c"
      },
      "execution_count": null,
      "outputs": [
        {
          "output_type": "stream",
          "name": "stdout",
          "text": [
            "(300, 300, 4)\n"
          ]
        }
      ]
    },
    {
      "cell_type": "code",
      "source": [
        "print(original_img.dtype)\n",
        "print(img.dtype)\n",
        "print(mask.dtype)"
      ],
      "metadata": {
        "colab": {
          "base_uri": "https://localhost:8080/"
        },
        "id": "nF1NKNdFd_iK",
        "outputId": "dbef6059-eb22-4e27-a8d4-fed5abcb4491"
      },
      "execution_count": null,
      "outputs": [
        {
          "output_type": "stream",
          "name": "stdout",
          "text": [
            "uint8\n",
            "uint8\n",
            "bool\n"
          ]
        }
      ]
    },
    {
      "cell_type": "code",
      "source": [
        "mask = mask[:,:,0]\n",
        "print(mask.shape)"
      ],
      "metadata": {
        "colab": {
          "base_uri": "https://localhost:8080/",
          "height": 183
        },
        "id": "07LaskkXLqIV",
        "outputId": "3780a5e9-b01a-4776-ac0f-38e883f9012c"
      },
      "execution_count": null,
      "outputs": [
        {
          "output_type": "error",
          "ename": "IndexError",
          "evalue": "ignored",
          "traceback": [
            "\u001b[0;31m---------------------------------------------------------------------------\u001b[0m",
            "\u001b[0;31mIndexError\u001b[0m                                Traceback (most recent call last)",
            "\u001b[0;32m<ipython-input-14-c2d1950e26da>\u001b[0m in \u001b[0;36m<module>\u001b[0;34m()\u001b[0m\n\u001b[0;32m----> 1\u001b[0;31m \u001b[0mmask\u001b[0m \u001b[0;34m=\u001b[0m \u001b[0mmask\u001b[0m\u001b[0;34m[\u001b[0m\u001b[0;34m:\u001b[0m\u001b[0;34m,\u001b[0m\u001b[0;34m:\u001b[0m\u001b[0;34m,\u001b[0m\u001b[0;36m0\u001b[0m\u001b[0;34m]\u001b[0m\u001b[0;34m\u001b[0m\u001b[0;34m\u001b[0m\u001b[0m\n\u001b[0m\u001b[1;32m      2\u001b[0m \u001b[0mprint\u001b[0m\u001b[0;34m(\u001b[0m\u001b[0mmask\u001b[0m\u001b[0;34m.\u001b[0m\u001b[0mshape\u001b[0m\u001b[0;34m)\u001b[0m\u001b[0;34m\u001b[0m\u001b[0;34m\u001b[0m\u001b[0m\n",
            "\u001b[0;31mIndexError\u001b[0m: too many indices for array: array is 2-dimensional, but 3 were indexed"
          ]
        }
      ]
    },
    {
      "cell_type": "code",
      "source": [
        "mask = ~mask"
      ],
      "metadata": {
        "id": "Pcl2hirlNJQ4"
      },
      "execution_count": null,
      "outputs": []
    },
    {
      "cell_type": "code",
      "source": [
        "## plotting\n",
        "plt.figure(figsize=(11,4))\n",
        "plt.subplot(131)\n",
        "plt.imshow(original_img, cmap=\"gray\"); plt.title(\"Original Image\")\n",
        "\n",
        "plt.subplot(132)\n",
        "plt.imshow(img, cmap=\"gray\"); plt.title(\"Damaged Image\") \n",
        "\n",
        "plt.subplot(133)\n",
        "plt.imshow(mask, cmap=\"gray\"); plt.title(\"Mask of Damaged Image\")"
      ],
      "metadata": {
        "colab": {
          "base_uri": "https://localhost:8080/",
          "height": 261
        },
        "id": "Fy7YgetOcau2",
        "outputId": "b5e6e832-64aa-4671-ee3a-1bdf4435c454"
      },
      "execution_count": null,
      "outputs": [
        {
          "output_type": "execute_result",
          "data": {
            "text/plain": [
              "Text(0.5, 1.0, 'Mask of Damaged Image')"
            ]
          },
          "metadata": {},
          "execution_count": 16
        },
        {
          "output_type": "display_data",
          "data": {
            "text/plain": [
              "<Figure size 792x288 with 3 Axes>"
            ],
            "image/png": "[encoded data removed]"
          },
          "metadata": {
            "needs_background": "light"
          }
        }
      ]
    },
    {
      "cell_type": "markdown",
      "source": [
        "#**TEST**"
      ],
      "metadata": {
        "id": "Rvj8rij3MITm"
      }
    },
    {
      "cell_type": "code",
      "source": [
        "# RBFHermite 2D\n",
        "# Script that performs first-order 2D RBF Hermite interpolation\n",
        "\n",
        "# Define RBF and its derivatives\n",
        "kernel = {'rbf':    lambda e, r:         np.sqrt(1 + (e * r)**2),\n",
        "          'dxrbf':  lambda e, r, dx:     dx * e**2 / np.sqrt(1 + (e * r)**2),\n",
        "          'dyrbf':  lambda e, r, dy:     dy * e**2 / np.sqrt(1 + (e * r)**2),\n",
        "          'dxxrbf': lambda e, r, dx:     e**2 * (1 + (e * r)**2 - (e * dx)**2) / (1 + (e * r)**2)**(3/2),\n",
        "          'dyyrbf': lambda e, r, dy:     e**2 * (1 + (e * r)**2 - (e * dy)**2) / (1 + (e * r)**2)**(3/2),\n",
        "          'dxyrbf': lambda e, r, dx, dy: -e**4 * dx * dy / (1 + (e * r)**2)**(3/2),\n",
        "          'ep': 6}\n",
        "\n",
        "idx = grid(mask)\n",
        "dsites = idx[mask]\n",
        "epoints = idx[~mask]\n",
        "rhs = rhs_function(img, mask)\n",
        "\n",
        "result_image = HRBF2D(dsites, epoints, rhs, kernel)\n",
        "\n",
        "img[~mask] = result_image"
      ],
      "metadata": {
        "id": "ioFHd8l0Cv11"
      },
      "execution_count": null,
      "outputs": []
    },
    {
      "cell_type": "code",
      "source": [
        "## plotting\n",
        "plt.figure(figsize=(11,4))\n",
        "plt.subplot(121)\n",
        "plt.imshow(original_img, cmap=\"gray\"); plt.title(\"Original Image\")\n",
        "\n",
        "plt.subplot(122)\n",
        "plt.imshow(img, cmap=\"gray\"); plt.title(\"Result Image\")"
      ],
      "metadata": {
        "id": "Nao8VOmfH2Yq"
      },
      "execution_count": null,
      "outputs": []
    }
  ]
}